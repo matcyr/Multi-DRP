{
 "cells": [
  {
   "cell_type": "code",
   "execution_count": 3,
   "metadata": {},
   "outputs": [
    {
     "name": "stderr",
     "output_type": "stream",
     "text": [
      "/home/yurui/anaconda3/envs/drug_response_env/lib/python3.9/site-packages/openpyxl/worksheet/_read_only.py:79: UserWarning: Unknown extension is not supported and will be removed\n",
      "  for idx, row in parser.parse():\n"
     ]
    }
   ],
   "source": [
    "import pandas as pd\n",
    "import numpy as np\n",
    "df = pd.read_csv('/home/yurui/GDSC_2/GDSC2_curve_data/GDSC2_curve_estimate_4_para.csv')\n",
    "dose_response_binary = pd.read_excel('/home/yurui/GDSC_2/GDSC2_dataset/TableS5C.xlsx', )"
   ]
  },
  {
   "cell_type": "code",
   "execution_count": 4,
   "metadata": {},
   "outputs": [],
   "source": [
    "dose_response_binary = dose_response_binary.iloc[4:, 1:]\n",
    "## Set the first row as column names. Then drop the first row.\n",
    "dose_response_binary.columns = dose_response_binary.iloc[0]\n",
    "dose_response_binary = dose_response_binary.drop(dose_response_binary.index[0]).reset_index(drop=True)\n",
    "drug_list = dose_response_binary.columns[1:]\n",
    "drug_threshold = {name: dose_response_binary.iloc[0][name] for name in drug_list}\n",
    "raw_dataset = pd.read_excel('/home/yurui/GDSC_2/GDSC2_dataset/GDSC2_fitted_dose_response_27Oct23.xlsx')"
   ]
  },
  {
   "cell_type": "code",
   "execution_count": 5,
   "metadata": {},
   "outputs": [
    {
     "name": "stdout",
     "output_type": "stream",
     "text": [
      "There are 969 cell lines of 33 cancer types.\n",
      "There are 295 drugs targeting 24 pathways.\n"
     ]
    }
   ],
   "source": [
    "drug_columns = ['DRUG_ID', 'DRUG_NAME', 'PATHWAY_NAME']\n",
    "cell_columns = ['CELL_LINE_NAME', 'TCGA_DESC','COSMIC_ID']\n",
    "cell_meta = raw_dataset[cell_columns].drop_duplicates().reset_index(drop=True)\n",
    "drug_meta = raw_dataset[drug_columns].drop_duplicates().reset_index(drop=True)\n",
    "print(f'There are {cell_meta.COSMIC_ID.unique().__len__()} cell lines of {cell_meta.TCGA_DESC.unique().__len__()} cancer types.')\n",
    "print(f'There are {drug_meta.DRUG_ID.unique().__len__()} drugs targeting {drug_meta.PATHWAY_NAME.unique().__len__()} pathways.')"
   ]
  },
  {
   "cell_type": "code",
   "execution_count": null,
   "metadata": {},
   "outputs": [],
   "source": [
    "cell_meta['CANCER_TYPE'] = cell_meta['TCGA_DESC'].astype('category').cat.codes\n",
    "drug_meta['PATHWAY_TYPE'] = drug_meta['PATHWAY_NAME'].astype('category').cat.codes\n",
    "GE = pd.read_csv('../GDSC2_dataset/Cell_line_RMA_proc_basalExp.txt', sep='\\t')\n",
    "## Filter the rows with any NA values.\n",
    "GE.dropna(axis=0, inplace=True)\n",
    "GE_meta = GE[['GENE_SYMBOLS', 'GENE_title']].drop_duplicates().reset_index(drop=True)\n",
    "GE_meta['Gene_code'] = GE_meta.index\n",
    "GE_meta.to_csv('../GDSC2_dataset/meta_data/GE_meta.csv', index=False)\n",
    "GE.drop(['GENE_title'], axis=1, inplace=True)\n",
    "GE.rename(columns={col: col.split('.')[1] if len(col.split('.')) > 1 else col for col in GE.columns[1:]}, inplace=True)\n",
    "GE.set_index('GENE_SYMBOLS', inplace=True)\n",
    "GE_final = GE.T\n",
    "GE_final.index.name = 'COSMIC_ID'\n",
    "GE_final.to_csv('../GDSC2_dataset/CL_feature/GE_final.csv')"
   ]
  },
  {
   "cell_type": "code",
   "execution_count": null,
   "metadata": {},
   "outputs": [],
   "source": []
  },
  {
   "cell_type": "code",
   "execution_count": null,
   "metadata": {},
   "outputs": [],
   "source": [
    "drug_data = pd.read_csv('..//GDSC2_dataset/Drug_feature/PubChem_compound.csv')\n",
    "drug_data.rename(columns={'cid': 'DRUG_ID'}, inplace=True)\n",
    "drug_data.rename(columns={'canonicalsmiles': 'SMILES'}, inplace=True)\n",
    "drug_meta = pd.merge(drug_data[['DRUG_ID','SMILES']], drug_meta, on='DRUG_ID')\n",
    "drug_meta.to_csv('../GDSC2_dataset/meta_data/drug_meta.csv', index=False)"
   ]
  }
 ],
 "metadata": {
  "kernelspec": {
   "display_name": "drug_response_env",
   "language": "python",
   "name": "python3"
  },
  "language_info": {
   "codemirror_mode": {
    "name": "ipython",
    "version": 3
   },
   "file_extension": ".py",
   "mimetype": "text/x-python",
   "name": "python",
   "nbconvert_exporter": "python",
   "pygments_lexer": "ipython3",
   "version": "3.9.18"
  }
 },
 "nbformat": 4,
 "nbformat_minor": 2
}
